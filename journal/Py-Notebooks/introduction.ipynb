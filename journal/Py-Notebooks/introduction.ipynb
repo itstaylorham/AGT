{
 "cells": [
  {
   "cell_type": "markdown",
   "metadata": {},
   "source": [
    "<small>November 7, 2023</small> | <small>Entry No. 1</small>"
   ]
  },
  {
   "cell_type": "markdown",
   "metadata": {},
   "source": [
    "### Table of Contents"
   ]
  },
  {
   "cell_type": "markdown",
   "metadata": {},
   "source": [
    "* [Introduction](#introduction)\n",
    "* [Understanding the Data](#understanding)\n",
    "* [Methodology](#methodology)\n",
    "* [Command List](#command-list)\n",
    "* [Exploratory Analysis](#exploratory-analysis)\n",
    "* [Model Overview](#model-overview)\n",
    "* [Discord](#discord)\n",
    "* [Closing Statements](#closing-statements)"
   ]
  },
  {
   "cell_type": "markdown",
   "metadata": {},
   "source": [
    "# Introduction"
   ]
  },
  {
   "cell_type": "markdown",
   "metadata": {},
   "source": [
    "<p>Agrotech Live is in a state of development where findings can be properly documented in notebooks. These journals will serve as research notes for the ongoing buildout of the program and exploratory analysis of agriculture data through the use of the program.</p>\n",
    "<p>At its core, the program is an agricultural environement monitoring system. It allows a user to perform various analyses for ensuring the overall health of eukaryotic organisms from information about ts surroundings.</p> \n",
    "<p>It is capable of performing evalution metrics to record performance of prediction models that guess an organism's reaction to a particular environment change. </p>"
   ]
  },
  {
   "cell_type": "markdown",
   "metadata": {},
   "source": [
    "## Understanding the Data"
   ]
  },
  {
   "cell_type": "markdown",
   "metadata": {},
   "source": [
    "<p>Four data points are currently used to monitor an envronment. <b>Temperature</b> measured in Celcius. <b>Moisture</b> measured in percentage out of one hundred. <b>Light</b> measured in lux, indicating light intensity.</li> <b>Conductivity</b> measured in microsiemens per centimeter, showing fertility.</li>"
   ]
  },
  {
   "cell_type": "markdown",
   "metadata": {},
   "source": [
    "<p>\"Timestamp\" and \"MAC\" fields help identify which devices made a particular entry and when. This data can be useful for generating dashboards in the client application.</p>\n",
    "<p>In version 1.3, the read functionality is limited to one device which helps with data processing for demonstration purposes.</p>"
   ]
  },
  {
   "cell_type": "markdown",
   "metadata": {},
   "source": [
    "## Methodology"
   ]
  },
  {
   "cell_type": "markdown",
   "metadata": {},
   "source": [
    "<p>Environmental data is collected with devices that transmit signals over a Bluetooth Low Energy (BLE) frequency.</p>"
   ]
  },
  {
   "cell_type": "markdown",
   "metadata": {},
   "source": [
    "<p>The device in question is called the \"WANFEI Plant Monitor Soil Test Kit\" and is available for purchase <a src=\"https://www.amazon.com/WANFEI-Intelligent-Bluetooth-Fertility-Temperature/dp/B09PV3T356/ref=sr_1_1_sspa?keywords=wanfei%2Bplant%2Bcare&qid=1700677321&sr=8-1-spons&sp_csd=d2lkZ2V0TmFtZT1zcF9hdGY&th=1\">on Amazon</a>.</p> "
   ]
  },
  {
   "cell_type": "markdown",
   "metadata": {},
   "source": [
    "<p>Below is a diagram of the data collection and sorting process performed in read.py when the <code>sesh, new sesh</code> or <code>push</code> commands are initiated.</p>"
   ]
  },
  {
   "cell_type": "markdown",
   "metadata": {},
   "source": [
    "<div style=\"text-align:center;\">\n",
    "    <img src=\"/home/jeremy/Documents/AGT/journal/images/readpy-data-flow.png\" width=\"700px\" height=\"auto\"></img>\n",
    "</div>\n"
   ]
  },
  {
   "cell_type": "markdown",
   "metadata": {},
   "source": [
    "<p>\"sesh.json\" is the source file used for testing data in the health score model and performing plot commands in the application.  This same data is then also saved to a folder of daily readings where each json file within the dated folder contains all samples collected from that day. </p>"
   ]
  },
  {
   "cell_type": "markdown",
   "metadata": {},
   "source": [
    "## Command List\n",
    "\n",
    "<b>System Functions</b>\n",
    "<ul>\n",
    "<li><code>read/push</code> - saves most recent device sensor data entry</li>\n",
    "<li><code>scan</code> - search for any available devices</li>\n",
    "<li><code>find</code> - search for a specific device using MAC</li>\n",
    "<li><code>sesh</code> - start a session of repeating \"read\" commands</li>\n",
    "<li><code>new sesh</code> - clear all sesh.json data and start a new session</li>\n",
    "<li><code>live</code> - start web server interface</li>\n",
    "</ul>\n",
    "\n",
    "<b>Analytical Functions</b>\n",
    "<ul>\n",
    "<li><code>train</code> - train model for most recent health score</li>\n",
    "<li><code>testing model</code> - train the testing health score model (model-test.py)</li>\n",
    "<li><code>summary/line</code> - build a line graph of sesh.json data</li>\n",
    "<li><code>trend</code> - plot commonly trending data points from sesh.json</li>\n",
    "<li><code>fcast</code> - build predictions based on patterns from rolling average (ARIMA)</li>\n",
    "<li><code>fcast 3d</code> - build visualize predictions</li>\n",
    "<li><code>corr</code> - generates correlation analysis along with a matrix visual</li>\n",
    "<li><code>pred</code> - builds 3d visual of ARIMA prediction analysis</li>\n",
    "<li><code>cleaner</code> - displays all samples in batch and sesh.json file</li>\n",
    "</ul>\n",
    "\n",
    "<b>Export Functions</b>\n",
    "<li><code>export</code> - save sesh.json data to json file</li>\n",
    "<li><code>export csv</code> - save sesh.json data to csv file</li>\n",
    "<li><code>export xl</code> - save sesh.json data to excel file</li>\n"
   ]
  },
  {
   "cell_type": "markdown",
   "metadata": {},
   "source": [
    "## Exploratory Analysis"
   ]
  },
  {
   "cell_type": "markdown",
   "metadata": {},
   "source": [
    "<h4>Below are examples of analyses performed on the sesh.json data using the above commands.</h4>"
   ]
  },
  {
   "cell_type": "markdown",
   "metadata": {},
   "source": [
    "<p>Running the 'trend' command can compare two features by generating a plot for the values.</p>"
   ]
  },
  {
   "cell_type": "markdown",
   "metadata": {},
   "source": [
    "<p>Here's a quick overview of the datasets used in the model to determine health score.</p>"
   ]
  },
  {
   "cell_type": "code",
   "execution_count": 1,
   "metadata": {},
   "outputs": [
    {
     "data": {
      "text/html": [
       "<div>\n",
       "<style scoped>\n",
       "    .dataframe tbody tr th:only-of-type {\n",
       "        vertical-align: middle;\n",
       "    }\n",
       "\n",
       "    .dataframe tbody tr th {\n",
       "        vertical-align: top;\n",
       "    }\n",
       "\n",
       "    .dataframe thead th {\n",
       "        text-align: right;\n",
       "    }\n",
       "</style>\n",
       "<table border=\"1\" class=\"dataframe\">\n",
       "  <thead>\n",
       "    <tr style=\"text-align: right;\">\n",
       "      <th></th>\n",
       "      <th>Timestamp</th>\n",
       "      <th>MAC</th>\n",
       "      <th>Temperature</th>\n",
       "      <th>Moisture</th>\n",
       "      <th>Light</th>\n",
       "      <th>Conductivity</th>\n",
       "    </tr>\n",
       "  </thead>\n",
       "  <tbody>\n",
       "    <tr>\n",
       "      <th>0</th>\n",
       "      <td>2024-02-29 12:22:35</td>\n",
       "      <td>c4:7c:8d:6d:24:ed</td>\n",
       "      <td>21.2</td>\n",
       "      <td>1</td>\n",
       "      <td>150</td>\n",
       "      <td>0</td>\n",
       "    </tr>\n",
       "    <tr>\n",
       "      <th>1</th>\n",
       "      <td>2024-02-29 12:22:39</td>\n",
       "      <td>c4:7c:8d:6d:24:9e</td>\n",
       "      <td>20.3</td>\n",
       "      <td>3</td>\n",
       "      <td>152</td>\n",
       "      <td>0</td>\n",
       "    </tr>\n",
       "    <tr>\n",
       "      <th>2</th>\n",
       "      <td>2024-02-29 12:33:03</td>\n",
       "      <td>c4:7c:8d:6d:24:ed</td>\n",
       "      <td>21.3</td>\n",
       "      <td>1</td>\n",
       "      <td>197</td>\n",
       "      <td>0</td>\n",
       "    </tr>\n",
       "    <tr>\n",
       "      <th>3</th>\n",
       "      <td>2024-02-29 12:33:07</td>\n",
       "      <td>c4:7c:8d:6d:24:9e</td>\n",
       "      <td>20.5</td>\n",
       "      <td>3</td>\n",
       "      <td>187</td>\n",
       "      <td>0</td>\n",
       "    </tr>\n",
       "    <tr>\n",
       "      <th>4</th>\n",
       "      <td>2024-02-29 12:43:33</td>\n",
       "      <td>c4:7c:8d:6d:24:ed</td>\n",
       "      <td>21.2</td>\n",
       "      <td>1</td>\n",
       "      <td>151</td>\n",
       "      <td>0</td>\n",
       "    </tr>\n",
       "  </tbody>\n",
       "</table>\n",
       "</div>"
      ],
      "text/plain": [
       "             Timestamp                MAC  Temperature  Moisture  Light  \\\n",
       "0  2024-02-29 12:22:35  c4:7c:8d:6d:24:ed         21.2         1    150   \n",
       "1  2024-02-29 12:22:39  c4:7c:8d:6d:24:9e         20.3         3    152   \n",
       "2  2024-02-29 12:33:03  c4:7c:8d:6d:24:ed         21.3         1    197   \n",
       "3  2024-02-29 12:33:07  c4:7c:8d:6d:24:9e         20.5         3    187   \n",
       "4  2024-02-29 12:43:33  c4:7c:8d:6d:24:ed         21.2         1    151   \n",
       "\n",
       "   Conductivity  \n",
       "0             0  \n",
       "1             0  \n",
       "2             0  \n",
       "3             0  \n",
       "4             0  "
      ]
     },
     "execution_count": 1,
     "metadata": {},
     "output_type": "execute_result"
    }
   ],
   "source": [
    "import json\n",
    "import pandas as pd\n",
    "\n",
    "# Load spider plant ideal dataset\n",
    "with open('/home/jeremy/Documents/AGT/__files__/batches/spiderplant.json', 'r') as f:\n",
    "    train_data = json.load(f)\n",
    "\n",
    "df_train = pd.DataFrame(train_data)\n",
    "df_train.head(5)"
   ]
  },
  {
   "cell_type": "markdown",
   "metadata": {},
   "source": [
    "<p>After the imports, we load the training dataset. This training data can be the ideal feature values in which a particular organism would sucessfully propogate.</p>"
   ]
  },
  {
   "cell_type": "markdown",
   "metadata": {},
   "source": [
    "<p>For comparison, here is the current data from sesh.json.</p>"
   ]
  },
  {
   "cell_type": "code",
   "execution_count": 2,
   "metadata": {},
   "outputs": [
    {
     "data": {
      "text/html": [
       "<div>\n",
       "<style scoped>\n",
       "    .dataframe tbody tr th:only-of-type {\n",
       "        vertical-align: middle;\n",
       "    }\n",
       "\n",
       "    .dataframe tbody tr th {\n",
       "        vertical-align: top;\n",
       "    }\n",
       "\n",
       "    .dataframe thead th {\n",
       "        text-align: right;\n",
       "    }\n",
       "</style>\n",
       "<table border=\"1\" class=\"dataframe\">\n",
       "  <thead>\n",
       "    <tr style=\"text-align: right;\">\n",
       "      <th></th>\n",
       "      <th>Timestamp</th>\n",
       "      <th>MAC</th>\n",
       "      <th>Temperature</th>\n",
       "      <th>Moisture</th>\n",
       "      <th>Light</th>\n",
       "      <th>Conductivity</th>\n",
       "    </tr>\n",
       "  </thead>\n",
       "  <tbody>\n",
       "    <tr>\n",
       "      <th>0</th>\n",
       "      <td>2024-04-29 21:26:13</td>\n",
       "      <td>c4:7c:8d:6d:24:ed</td>\n",
       "      <td>27.4</td>\n",
       "      <td>0</td>\n",
       "      <td>17</td>\n",
       "      <td>0</td>\n",
       "    </tr>\n",
       "    <tr>\n",
       "      <th>1</th>\n",
       "      <td>2024-04-29 21:29:06</td>\n",
       "      <td>c4:7c:8d:6d:24:ed</td>\n",
       "      <td>27.4</td>\n",
       "      <td>0</td>\n",
       "      <td>74</td>\n",
       "      <td>0</td>\n",
       "    </tr>\n",
       "    <tr>\n",
       "      <th>2</th>\n",
       "      <td>2024-04-29 21:39:33</td>\n",
       "      <td>c4:7c:8d:6d:24:ed</td>\n",
       "      <td>27.4</td>\n",
       "      <td>0</td>\n",
       "      <td>37</td>\n",
       "      <td>0</td>\n",
       "    </tr>\n",
       "    <tr>\n",
       "      <th>3</th>\n",
       "      <td>2024-04-29 21:50:01</td>\n",
       "      <td>c4:7c:8d:6d:24:ed</td>\n",
       "      <td>27.1</td>\n",
       "      <td>0</td>\n",
       "      <td>74</td>\n",
       "      <td>0</td>\n",
       "    </tr>\n",
       "    <tr>\n",
       "      <th>4</th>\n",
       "      <td>2024-04-29 22:00:28</td>\n",
       "      <td>c4:7c:8d:6d:24:ed</td>\n",
       "      <td>27.0</td>\n",
       "      <td>0</td>\n",
       "      <td>37</td>\n",
       "      <td>0</td>\n",
       "    </tr>\n",
       "  </tbody>\n",
       "</table>\n",
       "</div>"
      ],
      "text/plain": [
       "             Timestamp                MAC  Temperature  Moisture  Light  \\\n",
       "0  2024-04-29 21:26:13  c4:7c:8d:6d:24:ed         27.4         0     17   \n",
       "1  2024-04-29 21:29:06  c4:7c:8d:6d:24:ed         27.4         0     74   \n",
       "2  2024-04-29 21:39:33  c4:7c:8d:6d:24:ed         27.4         0     37   \n",
       "3  2024-04-29 21:50:01  c4:7c:8d:6d:24:ed         27.1         0     74   \n",
       "4  2024-04-29 22:00:28  c4:7c:8d:6d:24:ed         27.0         0     37   \n",
       "\n",
       "   Conductivity  \n",
       "0             0  \n",
       "1             0  \n",
       "2             0  \n",
       "3             0  \n",
       "4             0  "
      ]
     },
     "execution_count": 2,
     "metadata": {},
     "output_type": "execute_result"
    }
   ],
   "source": [
    "import json\n",
    "import pandas as pd\n",
    "\n",
    "# Load current dataset\n",
    "with open('/home/jeremy/Documents/AGT/sesh.json', 'r') as f:\n",
    "    session_data = json.load(f)\n",
    "\n",
    "sesh_df = pd.DataFrame(session_data)\n",
    "\n",
    "# Remove square brackets from each value\n",
    "sesh_df = sesh_df.apply(lambda x: x.str[0] if x.dtype == 'object' and isinstance(x[0], list) else x)\n",
    "sesh_df.head(5)"
   ]
  },
  {
   "cell_type": "markdown",
   "metadata": {},
   "source": [
    "<p>Note: Currenlty sesh.json values are contained in square brackets. Some cleaning may need to be performed to use this data with ease.</p>"
   ]
  },
  {
   "cell_type": "code",
   "execution_count": 3,
   "metadata": {},
   "outputs": [
    {
     "name": "stdout",
     "output_type": "stream",
     "text": [
      "SESSION Average Values:\n",
      "Temperature average: 22.26\n",
      "Moisture average: 0.28\n",
      "Light average: 48.30\n",
      "Conductivity average: 0.00\n",
      "\n",
      "TRAINING Average Values:\n",
      "Temperature average: 20.91\n",
      "Moisture average: 2.00\n",
      "Light average: 121.94\n",
      "Conductivity average: 0.00\n"
     ]
    }
   ],
   "source": [
    "import numpy as np\n",
    "\n",
    "# Load the data\n",
    "with open('/home/jeremy/Documents/AGT/sesh.json') as f:\n",
    "    data = json.load(f)\n",
    "\n",
    "# Extract the values for each feature\n",
    "temperature = [d['Temperature'][0] for d in data]\n",
    "moisture = [d['Moisture'][0] for d in data]\n",
    "light = [d['Light'][0] for d in data]\n",
    "conductivity = [d['Conductivity'][0] for d in data]\n",
    "\n",
    "# Calculate the average for each feature\n",
    "temperature_avg = np.mean(temperature)\n",
    "moisture_avg = np.mean(moisture)\n",
    "light_avg = np.mean(light)\n",
    "conductivity_avg = np.mean(conductivity)\n",
    "\n",
    "# Print the results\n",
    "print(\"SESSION Average Values:\")\n",
    "print(f\"Temperature average: {temperature_avg:.2f}\")\n",
    "print(f\"Moisture average: {moisture_avg:.2f}\")\n",
    "print(f\"Light average: {light_avg:.2f}\")\n",
    "print(f\"Conductivity average: {conductivity_avg:.2f}\")\n",
    "\n",
    "# Load training data\n",
    "with open('/home/jeremy/Documents/AGT/__files__/batches/spiderplant.json') as f:\n",
    "    train_data = json.load(f)\n",
    "\n",
    "# Extract the values for each feature\n",
    "temperature = [d['Temperature'] for d in train_data]\n",
    "moisture = [d['Moisture'] for d in train_data]\n",
    "light = [d['Light'] for d in train_data]\n",
    "conductivity = [d['Conductivity'] for d in train_data]\n",
    "\n",
    "# Calculate the average for each feature\n",
    "temperature_avg = np.mean(temperature)\n",
    "moisture_avg = np.mean(moisture)\n",
    "light_avg = np.mean(light)\n",
    "conductivity_avg = np.mean(conductivity)\n",
    "print('')\n",
    "# Print the results\n",
    "print(\"TRAINING Average Values:\")\n",
    "print(f\"Temperature average: {temperature_avg:.2f}\")\n",
    "print(f\"Moisture average: {moisture_avg:.2f}\")\n",
    "print(f\"Light average: {light_avg:.2f}\")\n",
    "print(f\"Conductivity average: {conductivity_avg:.2f}\")\n",
    "\n"
   ]
  },
  {
   "cell_type": "markdown",
   "metadata": {},
   "source": [
    "<p>Above is a summary of the averages from each feature per dataset.</p>"
   ]
  },
  {
   "cell_type": "markdown",
   "metadata": {},
   "source": [
    "<h3>Forecasting feature data points</h3>"
   ]
  },
  {
   "cell_type": "markdown",
   "metadata": {},
   "source": [
    "<p>With commands such as <code>fcast</code> and <code>fcast 3d</code>, we can predit where certain data points will be at a particular time using the ARIMA model.</p>\n",
    "<p>Below is the output of the ' fcast ' command before saving forecast data to the `\\__files__\\predict` folder.</p>"
   ]
  },
  {
   "cell_type": "code",
   "execution_count": 4,
   "metadata": {},
   "outputs": [
    {
     "ename": "ValueError",
     "evalue": "invalid literal for int() with base 10: '2024-04-29 21:26:13'",
     "output_type": "error",
     "traceback": [
      "\u001b[0;31m---------------------------------------------------------------------------\u001b[0m",
      "\u001b[0;31mValueError\u001b[0m                                Traceback (most recent call last)",
      "Cell \u001b[0;32mIn[4], line 14\u001b[0m\n\u001b[1;32m     12\u001b[0m \u001b[38;5;28;01mfor\u001b[39;00m i \u001b[38;5;129;01min\u001b[39;00m \u001b[38;5;28mrange\u001b[39m(\u001b[38;5;28mlen\u001b[39m(data)):\n\u001b[1;32m     13\u001b[0m     \u001b[38;5;28;01mif\u001b[39;00m \u001b[38;5;28mtype\u001b[39m(data[i][\u001b[38;5;124m'\u001b[39m\u001b[38;5;124mTimestamp\u001b[39m\u001b[38;5;124m'\u001b[39m][\u001b[38;5;241m0\u001b[39m]) \u001b[38;5;241m!=\u001b[39m \u001b[38;5;28mint\u001b[39m:\n\u001b[0;32m---> 14\u001b[0m         data[i][\u001b[38;5;124m'\u001b[39m\u001b[38;5;124mTimestamp\u001b[39m\u001b[38;5;124m'\u001b[39m][\u001b[38;5;241m0\u001b[39m] \u001b[38;5;241m=\u001b[39m \u001b[38;5;28;43mint\u001b[39;49m\u001b[43m(\u001b[49m\u001b[43mdata\u001b[49m\u001b[43m[\u001b[49m\u001b[43mi\u001b[49m\u001b[43m]\u001b[49m\u001b[43m[\u001b[49m\u001b[38;5;124;43m'\u001b[39;49m\u001b[38;5;124;43mTimestamp\u001b[39;49m\u001b[38;5;124;43m'\u001b[39;49m\u001b[43m]\u001b[49m\u001b[43m[\u001b[49m\u001b[38;5;241;43m0\u001b[39;49m\u001b[43m]\u001b[49m\u001b[43m)\u001b[49m\n\u001b[1;32m     16\u001b[0m \u001b[38;5;66;03m# Extract data from the JSON into separate lists\u001b[39;00m\n\u001b[1;32m     17\u001b[0m timestamps \u001b[38;5;241m=\u001b[39m [i[\u001b[38;5;124m'\u001b[39m\u001b[38;5;124mTimestamp\u001b[39m\u001b[38;5;124m'\u001b[39m][\u001b[38;5;241m0\u001b[39m] \u001b[38;5;28;01mfor\u001b[39;00m i \u001b[38;5;129;01min\u001b[39;00m data]\n",
      "\u001b[0;31mValueError\u001b[0m: invalid literal for int() with base 10: '2024-04-29 21:26:13'"
     ]
    }
   ],
   "source": [
    "import os\n",
    "import json\n",
    "import matplotlib.pyplot as plt\n",
    "import statsmodels.api as sm\n",
    "from datetime import datetime, timedelta\n",
    "\n",
    "# Load the JSON data from the file\n",
    "with open('/home/jeremy/Documents/AGT/sesh.json') as f:\n",
    "    data = json.load(f)\n",
    "\n",
    "# Convert timestamp to integer if necessary\n",
    "for i in range(len(data)):\n",
    "    if type(data[i]['Timestamp'][0]) != int:\n",
    "        data[i]['Timestamp'][0] = int(data[i]['Timestamp'][0])\n",
    "\n",
    "# Extract data from the JSON into separate lists\n",
    "timestamps = [i['Timestamp'][0] for i in data]\n",
    "temperatures = [i['Temperature'][0] for i in data]\n",
    "moistures = [i['Moisture'][0] for i in data]\n",
    "lights = [i['Light'][0] for i in data] \n",
    "conductivities = [i['Conductivity'][0] for i in data]\n",
    "\n",
    "# Define the number of steps to forecast\n",
    "n_steps = 5\n",
    "\n",
    "# Fit the ARIMA model to the temperature data\n",
    "model = sm.tsa.ARIMA(temperatures, order=(1, 1, 1))\n",
    "model_fit = model.fit()\n",
    "predictions_temperatures = model_fit.predict(start=len(temperatures), end=len(temperatures)+n_steps-1)\n",
    "\n",
    "# Fit the ARIMA model to the moisture data\n",
    "model = sm.tsa.ARIMA(moistures, order=(1, 1, 1))\n",
    "model_fit = model.fit()\n",
    "predictions_moistures = model_fit.predict(start=len(moistures), end=len(moistures)+n_steps-1)\n",
    "\n",
    "# Fit the ARIMA model to the light data\n",
    "model = sm.tsa.ARIMA(lights, order=(1, 1, 1))\n",
    "model_fit = model.fit()\n",
    "predictions_lights = model_fit.predict(start=len(lights), end=len(lights)+n_steps-1)\n",
    "\n",
    "# Fit the ARIMA model to the conductivity data\n",
    "model = sm.tsa.ARIMA(conductivities, order=(1, 1, 1))\n",
    "model_fit = model.fit()\n",
    "predictions_conductivities = model_fit.predict(start=len(conductivities), end=len(conductivities)+n_steps-1)\n",
    "\n",
    "# Assuming timestamps are in seconds\n",
    "# Determine the interval between each timestamp\n",
    "interval = timestamps[-1] - timestamps[-2]\n",
    "\n",
    "# Generate new timestamps based on this interval for n_steps into the future\n",
    "new_timestamps = [timestamps[-1] + interval * i for i in range(1, n_steps+1)]\n",
    "\n",
    "# append new timestamps to existing timestamps\n",
    "timestamps += new_timestamps\n",
    "\n",
    "print('Temperature predictions:')\n",
    "print(predictions_temperatures)\n",
    "print('Light predictions:')\n",
    "print(predictions_lights)\n",
    "print('Moisture predictions:')\n",
    "print(predictions_moistures)\n",
    "print('Conductivity predictions:')\n",
    "print(predictions_conductivities)"
   ]
  },
  {
   "cell_type": "markdown",
   "metadata": {},
   "source": [
    "<h3>Correlation analysis</h3>"
   ]
  },
  {
   "cell_type": "markdown",
   "metadata": {},
   "source": [
    "<p>Performing a correlation analysis helps to understand how related each feature is to one another. This is useful in determining the overall health of a subject and calculating the health score from R2 values. This type of anlaysis can be performed using the <code>corr</code> command.</p>"
   ]
  },
  {
   "cell_type": "code",
   "execution_count": 5,
   "metadata": {},
   "outputs": [
    {
     "name": "stdout",
     "output_type": "stream",
     "text": [
      "              Temperature  Moisture     Light  Conductivity\n",
      "Temperature      1.000000  0.220519 -0.014119           NaN\n",
      "Moisture         0.220519  1.000000 -0.036544           NaN\n",
      "Light           -0.014119 -0.036544  1.000000           NaN\n",
      "Conductivity          NaN       NaN       NaN           NaN\n"
     ]
    },
    {
     "data": {
      "image/png": "[encoded data removed]",
      "text/plain": [
       "<Figure size 640x480 with 2 Axes>"
      ]
     },
     "metadata": {},
     "output_type": "display_data"
    }
   ],
   "source": [
    "import pandas as pd\n",
    "import seaborn as sns\n",
    "import matplotlib.pyplot as plt\n",
    "\n",
    "# load the df from a JSON file into a pandas dfFrame\n",
    "df = pd.read_json(\"/home/jeremy/Documents/AGT/sesh.json\")\n",
    "\n",
    "# convert the df types of the columns to float\n",
    "df['Moisture'] = df['Moisture'].str[0]\n",
    "df['Light'] = df['Light'].str[0]\n",
    "df['Temperature'] = df['Temperature'].str[0]\n",
    "df['Conductivity'] = df['Conductivity'].str[0]\n",
    "\n",
    "# calculate the Pearson correlation coefficient between light and temperature\n",
    "correlation = df.corr(numeric_only=True)\n",
    "\n",
    "sns.heatmap(correlation, annot=True, cmap='YlGnBu')\n",
    "\n",
    "print(correlation)"
   ]
  },
  {
   "cell_type": "markdown",
   "metadata": {},
   "source": [
    "<p>When analyzing R2 scores for correlation, values which are closest to zero show higher correlation, whereas those farther from zero represent a lower corrrelation. Values can be positively or negativly correlated as well.</p>"
   ]
  },
  {
   "cell_type": "markdown",
   "metadata": {},
   "source": [
    "<h2>Model Overview</h2>"
   ]
  },
  {
   "cell_type": "markdown",
   "metadata": {},
   "source": [
    "<h3>Background</h3>"
   ]
  },
  {
   "cell_type": "markdown",
   "metadata": {},
   "source": [
    "<p>In the context of this research, a health score is representitive of how closely related each of the four features are to one another from the training and testing sets. This information useful because it helps us understand which environments the subject is most prosperous in and predicting how a particular environment change might affect it's overall health.</p>"
   ]
  },
  {
   "cell_type": "markdown",
   "metadata": {},
   "source": [
    "<p>Through use of the <code>sesh</code> command, the process populates \"sesh.json\" with a constant stream of live samples which become the testing data. Training data consists of ideal data points for optimal growth at any particular point in the subject's lifespan. These ideal datasets are called <i>batches</i>, located in the \"__files__\" folder.</p> "
   ]
  },
  {
   "cell_type": "markdown",
   "metadata": {},
   "source": [
    "<h4>Execute Imports</h4>"
   ]
  },
  {
   "cell_type": "code",
   "execution_count": 7,
   "metadata": {},
   "outputs": [],
   "source": [
    "import sys\n",
    "import os\n",
    "import torch\n",
    "import torch.nn as nn\n",
    "import json\n",
    "import numpy as np\n",
    "import argparse\n",
    "from datetime import datetime, timedelta\n",
    "import torch.optim as optim\n",
    "from sklearn.model_selection import train_test_split\n",
    "from sklearn.preprocessing import StandardScaler\n",
    "from sklearn.metrics import r2_score"
   ]
  },
  {
   "cell_type": "markdown",
   "metadata": {},
   "source": [
    "<h3>Preprocessing & Normalization</h3>"
   ]
  },
  {
   "cell_type": "markdown",
   "metadata": {},
   "source": [
    "<p>We start by perfoming preprocessing through normalization on the batch data with <code>StandardScaler()</code> as the main method.</p>"
   ]
  },
  {
   "cell_type": "code",
   "execution_count": 8,
   "metadata": {},
   "outputs": [],
   "source": [
    "# Load spider plant ideal dataset\n",
    "with open('/home/jeremy/Documents/AGT/__files__/batches/spiderplant.json', 'r') as f:\n",
    "    ideal_data = json.load(f)\n",
    "\n",
    "# Extract features and normalize\n",
    "features = []\n",
    "targets = []\n",
    "\n",
    "for entry in ideal_data:\n",
    "    features.append([\n",
    "        entry[\"Light\"], entry[\"Moisture\"], entry[\"Conductivity\"],\n",
    "        entry[\"Temperature\"]\n",
    "    ])\n",
    "    targets.append([\n",
    "        entry[\"Temperature\"], entry[\"Moisture\"], entry[\"Light\"],\n",
    "        entry[\"Conductivity\"]\n",
    "    ])\n",
    "scaler = StandardScaler()\n",
    "features = scaler.fit_transform(features)"
   ]
  },
  {
   "cell_type": "markdown",
   "metadata": {},
   "source": [
    "<p>Setting random seeds</p>"
   ]
  },
  {
   "cell_type": "code",
   "execution_count": 9,
   "metadata": {},
   "outputs": [],
   "source": [
    "# Seed PyTorch\n",
    "torch.manual_seed(20)\n",
    "\n",
    "# Seed NumPy\n",
    "np.random.seed(20)"
   ]
  },
  {
   "cell_type": "markdown",
   "metadata": {},
   "source": [
    "<p>To prepare the training data, plug the training and test datasets to x_train and y_train train values using PyTorch.</p>"
   ]
  },
  {
   "cell_type": "code",
   "execution_count": 10,
   "metadata": {},
   "outputs": [],
   "source": [
    "X_train = torch.tensor(features, dtype=torch.float32)\n",
    "y_train = torch.tensor(targets, dtype=torch.float32)\n",
    "current_day = datetime.now().day"
   ]
  },
  {
   "cell_type": "markdown",
   "metadata": {},
   "source": [
    "<p>This operation also loads additional test data from JSON file based on the date. </p>"
   ]
  },
  {
   "cell_type": "markdown",
   "metadata": {},
   "source": [
    "<p>Initilize parameters for counting missed days in the past two weeks.</p>"
   ]
  },
  {
   "cell_type": "code",
   "execution_count": 11,
   "metadata": {},
   "outputs": [],
   "source": [
    "# Initialize missed days counter\n",
    "test_data = []\n",
    "num_days_loaded = 0\n",
    "num_days_missing = 0\n",
    "\n",
    "# Get today's date\n",
    "today = datetime.now()\n",
    "\n",
    "# Load the past 30 days of test data\n",
    "for i in range(1, 15):\n",
    "    # Calculate the date for each file\n",
    "    test_date = today - timedelta(days=i)\n",
    "    \n",
    "    # Format the date as a string in the desired format\n",
    "    date_string = test_date.strftime('%Y-%m-%d')\n",
    "\n",
    "    # date_string = '2023-06-05'\n",
    "\n",
    "    filename = f'/home/jeremy/Documents/AGT/__files__/read_files/{date_string}/AGT-{date_string}.json'\n",
    "    \n",
    "    if os.path.isfile(filename):\n",
    "        with open(filename, 'r') as f:\n",
    "            day_data = json.load(f)\n",
    "            test_data.extend(day_data)\n",
    "            num_days_loaded += 1\n",
    "    else:\n",
    "        num_days_missing += 1"
   ]
  },
  {
   "cell_type": "code",
   "execution_count": 12,
   "metadata": {},
   "outputs": [
    {
     "name": "stdout",
     "output_type": "stream",
     "text": [
      "Loaded 6 days of data out of 14 days expected.\n",
      "Data not found for 8 day(s).\n"
     ]
    }
   ],
   "source": [
    "print(f\"Loaded {num_days_loaded} days of data out of {i} days expected.\")\n",
    "if num_days_missing > 0:\n",
    "    print(f\"Data not found for {num_days_missing} day(s).\")"
   ]
  },
  {
   "cell_type": "markdown",
   "metadata": {},
   "source": [
    "<p>Now we begin setting up the test features and targets to be loaded in the health score model.</p>"
   ]
  },
  {
   "cell_type": "code",
   "execution_count": 13,
   "metadata": {},
   "outputs": [],
   "source": [
    "test_features = []\n",
    "test_targets = []\n",
    "\n",
    "for entry in test_data:\n",
    "    test_features.append([\n",
    "        entry[\"Light\"], entry[\"Moisture\"], entry[\"Conductivity\"],\n",
    "        entry[\"Temperature\"]\n",
    "    ])\n",
    "    test_targets.append([\n",
    "        entry[\"Temperature\"], entry[\"Moisture\"], entry[\"Light\"],\n",
    "        entry[\"Conductivity\"]\n",
    "    ])\n",
    "\n",
    "test_features = scaler.transform(test_features)  # use the same scaler to ensure the same scale is used\n",
    "\n",
    "X_test = torch.tensor(test_features, dtype=torch.float32)\n",
    "y_test = torch.tensor(test_targets, dtype=torch.float32)"
   ]
  },
  {
   "cell_type": "markdown",
   "metadata": {},
   "source": [
    "<p>For documentation purposes, the contents of <code>nn.py</code> is laid out below. In this file the neural network is being established with four layers.</p>"
   ]
  },
  {
   "cell_type": "code",
   "execution_count": 14,
   "metadata": {},
   "outputs": [],
   "source": [
    "class SoilHealthPredictor(nn.Module):\n",
    "    def __init__(self):\n",
    "        super(SoilHealthPredictor, self).__init__()\n",
    "        self.layer1 = nn.Linear(4, 64)\n",
    "        self.layer2 = nn.Linear(64, 32)\n",
    "        self.layer3 = nn.Linear(32, 16)\n",
    "        self.layer4 = nn.Linear(16, 4)\n",
    "\n",
    "    def forward(self, x):\n",
    "        x = torch.relu(self.layer1(x))\n",
    "        x = torch.relu(self.layer2(x))\n",
    "        x = torch.relu(self.layer3(x))\n",
    "        x = self.layer4(x)\n",
    "        return x"
   ]
  },
  {
   "cell_type": "markdown",
   "metadata": {},
   "source": [
    "<p>Initalize Mean Squared error, Adam optimizer and training parameters.</p>"
   ]
  },
  {
   "cell_type": "code",
   "execution_count": 15,
   "metadata": {},
   "outputs": [],
   "source": [
    "model = SoilHealthPredictor()\n",
    "\n",
    "criterion = nn.MSELoss()\n",
    "optimizer = optim.Adam(model.parameters(), lr=0.01)"
   ]
  },
  {
   "cell_type": "markdown",
   "metadata": {},
   "source": [
    "<h3>Training the Model</h3>"
   ]
  },
  {
   "cell_type": "markdown",
   "metadata": {},
   "source": [
    "<p>Begin the training loop which iterates over the dataset in min-batches, performs forward and backward passes, and updates the model weights.</p>"
   ]
  },
  {
   "cell_type": "code",
   "execution_count": 16,
   "metadata": {},
   "outputs": [
    {
     "name": "stdout",
     "output_type": "stream",
     "text": [
      "Starting Epoch 1/100\n",
      "Epoch [1/100], Train Loss: 22093.9180, Test Loss: 8627.5488\n",
      "--------------------------------------------------\n",
      "Starting Epoch 2/100\n",
      "Epoch [2/100], Train Loss: 22064.9844, Test Loss: 8378.2393\n",
      "--------------------------------------------------\n",
      "Starting Epoch 3/100\n",
      "Epoch [3/100], Train Loss: 22000.5098, Test Loss: 7894.3252\n",
      "--------------------------------------------------\n",
      "Starting Epoch 4/100\n",
      "Epoch [4/100], Train Loss: 21864.4609, Test Loss: 6983.5801\n",
      "--------------------------------------------------\n",
      "Starting Epoch 5/100\n",
      "Epoch [5/100], Train Loss: 21593.6816, Test Loss: 5665.2803\n",
      "--------------------------------------------------\n",
      "Starting Epoch 6/100\n",
      "Epoch [6/100], Train Loss: 21094.2500, Test Loss: 4329.4248\n",
      "--------------------------------------------------\n",
      "Starting Epoch 7/100\n",
      "Epoch [7/100], Train Loss: 20243.1660, Test Loss: 4910.1323\n",
      "--------------------------------------------------\n",
      "Starting Epoch 8/100\n",
      "Epoch [8/100], Train Loss: 18917.1191, Test Loss: 12303.4648\n",
      "--------------------------------------------------\n",
      "Starting Epoch 9/100\n",
      "Epoch [9/100], Train Loss: 17027.7891, Test Loss: 32487.9355\n",
      "--------------------------------------------------\n",
      "Starting Epoch 10/100\n",
      "Epoch [10/100], Train Loss: 14492.9590, Test Loss: 66943.3906\n",
      "--------------------------------------------------\n",
      "Starting Epoch 11/100\n",
      "Epoch [11/100], Train Loss: 11293.3799, Test Loss: 118486.9531\n",
      "--------------------------------------------------\n",
      "Starting Epoch 12/100\n",
      "Epoch [12/100], Train Loss: 7682.4199, Test Loss: 192844.2656\n",
      "--------------------------------------------------\n",
      "Starting Epoch 13/100\n",
      "Epoch [13/100], Train Loss: 4281.7871, Test Loss: 294811.0312\n",
      "--------------------------------------------------\n",
      "Starting Epoch 14/100\n",
      "Epoch [14/100], Train Loss: 2068.7617, Test Loss: 420154.6250\n",
      "--------------------------------------------------\n",
      "Starting Epoch 15/100\n",
      "Epoch [15/100], Train Loss: 1584.6892, Test Loss: 525713.7500\n",
      "--------------------------------------------------\n",
      "Starting Epoch 16/100\n",
      "Epoch [16/100], Train Loss: 1687.3018, Test Loss: 539053.9375\n",
      "--------------------------------------------------\n",
      "Starting Epoch 17/100\n",
      "Epoch [17/100], Train Loss: 1284.6312, Test Loss: 463609.9688\n",
      "--------------------------------------------------\n",
      "Starting Epoch 18/100\n",
      "Epoch [18/100], Train Loss: 918.0702, Test Loss: 377595.0000\n",
      "--------------------------------------------------\n",
      "Starting Epoch 19/100\n",
      "Epoch [19/100], Train Loss: 836.6398, Test Loss: 326802.1250\n",
      "--------------------------------------------------\n",
      "Starting Epoch 20/100\n",
      "Epoch [20/100], Train Loss: 798.6047, Test Loss: 315593.3125\n",
      "--------------------------------------------------\n",
      "Starting Epoch 21/100\n",
      "Epoch [21/100], Train Loss: 722.6818, Test Loss: 329837.0938\n",
      "--------------------------------------------------\n",
      "Starting Epoch 22/100\n",
      "Epoch [22/100], Train Loss: 641.5137, Test Loss: 351641.9062\n",
      "--------------------------------------------------\n",
      "Starting Epoch 23/100\n",
      "Epoch [23/100], Train Loss: 576.4059, Test Loss: 367297.9062\n",
      "--------------------------------------------------\n",
      "Starting Epoch 24/100\n",
      "Epoch [24/100], Train Loss: 516.4761, Test Loss: 370894.4375\n",
      "--------------------------------------------------\n",
      "Starting Epoch 25/100\n",
      "Epoch [25/100], Train Loss: 464.5522, Test Loss: 366113.8438\n",
      "--------------------------------------------------\n",
      "Starting Epoch 26/100\n",
      "Epoch [26/100], Train Loss: 421.5309, Test Loss: 361346.5938\n",
      "--------------------------------------------------\n",
      "Starting Epoch 27/100\n",
      "Epoch [27/100], Train Loss: 379.3443, Test Loss: 361988.5312\n",
      "--------------------------------------------------\n",
      "Starting Epoch 28/100\n",
      "Epoch [28/100], Train Loss: 341.1586, Test Loss: 368049.6875\n",
      "--------------------------------------------------\n",
      "Starting Epoch 29/100\n",
      "Epoch [29/100], Train Loss: 311.3223, Test Loss: 376080.1250\n",
      "--------------------------------------------------\n",
      "Starting Epoch 30/100\n",
      "Epoch [30/100], Train Loss: 285.1879, Test Loss: 382044.5000\n",
      "--------------------------------------------------\n",
      "Starting Epoch 31/100\n",
      "Epoch [31/100], Train Loss: 259.2271, Test Loss: 384146.8125\n",
      "--------------------------------------------------\n",
      "Starting Epoch 32/100\n",
      "Epoch [32/100], Train Loss: 235.6474, Test Loss: 383771.8438\n",
      "--------------------------------------------------\n",
      "Starting Epoch 33/100\n",
      "Epoch [33/100], Train Loss: 215.8045, Test Loss: 383363.4688\n",
      "--------------------------------------------------\n",
      "Starting Epoch 34/100\n",
      "Epoch [34/100], Train Loss: 198.4426, Test Loss: 384101.1875\n",
      "--------------------------------------------------\n",
      "Starting Epoch 35/100\n",
      "Epoch [35/100], Train Loss: 183.0650, Test Loss: 385651.2500\n",
      "--------------------------------------------------\n",
      "Starting Epoch 36/100\n",
      "Epoch [36/100], Train Loss: 169.9392, Test Loss: 386967.1875\n",
      "--------------------------------------------------\n",
      "Starting Epoch 37/100\n",
      "Epoch [37/100], Train Loss: 158.7196, Test Loss: 387257.6562\n",
      "--------------------------------------------------\n",
      "Starting Epoch 38/100\n"
     ]
    },
    {
     "name": "stdout",
     "output_type": "stream",
     "text": [
      "Epoch [38/100], Train Loss: 148.9646, Test Loss: 386691.4375\n",
      "--------------------------------------------------\n",
      "Starting Epoch 39/100\n",
      "Epoch [39/100], Train Loss: 140.5815, Test Loss: 386074.3438\n",
      "--------------------------------------------------\n",
      "Starting Epoch 40/100\n",
      "Epoch [40/100], Train Loss: 133.5069, Test Loss: 385973.8125\n",
      "--------------------------------------------------\n",
      "Starting Epoch 41/100\n",
      "Epoch [41/100], Train Loss: 127.5817, Test Loss: 386388.5625\n",
      "--------------------------------------------------\n",
      "Starting Epoch 42/100\n",
      "Epoch [42/100], Train Loss: 122.6280, Test Loss: 386896.9375\n",
      "--------------------------------------------------\n",
      "Starting Epoch 43/100\n",
      "Epoch [43/100], Train Loss: 118.4735, Test Loss: 387056.5312\n",
      "--------------------------------------------------\n",
      "Starting Epoch 44/100\n",
      "Epoch [44/100], Train Loss: 114.9753, Test Loss: 386797.9375\n",
      "--------------------------------------------------\n",
      "Starting Epoch 45/100\n",
      "Epoch [45/100], Train Loss: 112.0488, Test Loss: 386346.9062\n",
      "--------------------------------------------------\n",
      "Starting Epoch 46/100\n",
      "Epoch [46/100], Train Loss: 109.5939, Test Loss: 385923.6875\n",
      "--------------------------------------------------\n",
      "Starting Epoch 47/100\n",
      "Epoch [47/100], Train Loss: 107.5023, Test Loss: 385560.3438\n",
      "--------------------------------------------------\n",
      "Starting Epoch 48/100\n",
      "Epoch [48/100], Train Loss: 105.7000, Test Loss: 385130.4062\n",
      "--------------------------------------------------\n",
      "Starting Epoch 49/100\n",
      "Epoch [49/100], Train Loss: 104.1353, Test Loss: 384541.8750\n",
      "--------------------------------------------------\n",
      "Starting Epoch 50/100\n",
      "Epoch [50/100], Train Loss: 102.7662, Test Loss: 383814.1562\n",
      "--------------------------------------------------\n",
      "Starting Epoch 51/100\n",
      "Epoch [51/100], Train Loss: 101.5419, Test Loss: 383055.1250\n",
      "--------------------------------------------------\n",
      "Starting Epoch 52/100\n",
      "Epoch [52/100], Train Loss: 100.4303, Test Loss: 382354.1562\n",
      "--------------------------------------------------\n",
      "Starting Epoch 53/100\n",
      "Epoch [53/100], Train Loss: 99.4077, Test Loss: 381694.7188\n",
      "--------------------------------------------------\n",
      "Starting Epoch 54/100\n",
      "Epoch [54/100], Train Loss: 98.4534, Test Loss: 381014.1562\n",
      "--------------------------------------------------\n",
      "Starting Epoch 55/100\n",
      "Epoch [55/100], Train Loss: 97.5625, Test Loss: 380281.3125\n",
      "--------------------------------------------------\n",
      "Starting Epoch 56/100\n",
      "Epoch [56/100], Train Loss: 96.7214, Test Loss: 379493.0000\n",
      "--------------------------------------------------\n",
      "Starting Epoch 57/100\n",
      "Epoch [57/100], Train Loss: 95.9187, Test Loss: 378685.3750\n",
      "--------------------------------------------------\n",
      "Starting Epoch 58/100\n",
      "Epoch [58/100], Train Loss: 95.1459, Test Loss: 377885.6875\n",
      "--------------------------------------------------\n",
      "Starting Epoch 59/100\n",
      "Epoch [59/100], Train Loss: 94.3962, Test Loss: 377099.3750\n",
      "--------------------------------------------------\n",
      "Starting Epoch 60/100\n",
      "Epoch [60/100], Train Loss: 93.6654, Test Loss: 376315.3750\n",
      "--------------------------------------------------\n",
      "Starting Epoch 61/100\n",
      "Epoch [61/100], Train Loss: 92.9513, Test Loss: 375524.1562\n",
      "--------------------------------------------------\n",
      "Starting Epoch 62/100\n",
      "Epoch [62/100], Train Loss: 92.2495, Test Loss: 374738.3438\n",
      "--------------------------------------------------\n",
      "Starting Epoch 63/100\n",
      "Epoch [63/100], Train Loss: 91.5590, Test Loss: 373958.1562\n",
      "--------------------------------------------------\n",
      "Starting Epoch 64/100\n",
      "Epoch [64/100], Train Loss: 90.8878, Test Loss: 373170.5312\n",
      "--------------------------------------------------\n",
      "Starting Epoch 65/100\n",
      "Epoch [65/100], Train Loss: 90.2418, Test Loss: 372361.2812\n",
      "--------------------------------------------------\n",
      "Starting Epoch 66/100\n",
      "Epoch [66/100], Train Loss: 89.6108, Test Loss: 371517.5312\n",
      "--------------------------------------------------\n",
      "Starting Epoch 67/100\n",
      "Epoch [67/100], Train Loss: 88.9927, Test Loss: 370655.5938\n",
      "--------------------------------------------------\n",
      "Starting Epoch 68/100\n",
      "Epoch [68/100], Train Loss: 88.3841, Test Loss: 369809.0000\n",
      "--------------------------------------------------\n",
      "Starting Epoch 69/100\n",
      "Epoch [69/100], Train Loss: 87.7686, Test Loss: 368985.6562\n",
      "--------------------------------------------------\n",
      "Starting Epoch 70/100\n",
      "Epoch [70/100], Train Loss: 87.1269, Test Loss: 368012.3438\n",
      "--------------------------------------------------\n",
      "Starting Epoch 71/100\n",
      "Epoch [71/100], Train Loss: 86.4030, Test Loss: 367330.7188\n",
      "--------------------------------------------------\n",
      "Starting Epoch 72/100\n",
      "Epoch [72/100], Train Loss: 85.4383, Test Loss: 366337.9062\n",
      "--------------------------------------------------\n",
      "Starting Epoch 73/100\n",
      "Epoch [73/100], Train Loss: 84.0919, Test Loss: 365139.0938\n",
      "--------------------------------------------------\n",
      "Starting Epoch 74/100\n",
      "Epoch [74/100], Train Loss: 82.2941, Test Loss: 363799.2812\n",
      "--------------------------------------------------\n",
      "Starting Epoch 75/100\n",
      "Epoch [75/100], Train Loss: 80.0080, Test Loss: 362555.0938\n",
      "--------------------------------------------------\n",
      "Starting Epoch 76/100\n",
      "Epoch [76/100], Train Loss: 77.2979, Test Loss: 361497.4062\n",
      "--------------------------------------------------\n",
      "Starting Epoch 77/100\n",
      "Epoch [77/100], Train Loss: 74.1459, Test Loss: 360075.9375\n",
      "--------------------------------------------------\n",
      "Starting Epoch 78/100\n",
      "Epoch [78/100], Train Loss: 70.6665, Test Loss: 358406.6562\n",
      "--------------------------------------------------\n",
      "Starting Epoch 79/100\n",
      "Epoch [79/100], Train Loss: 66.9479, Test Loss: 356984.0312\n",
      "--------------------------------------------------\n",
      "Starting Epoch 80/100\n",
      "Epoch [80/100], Train Loss: 63.0685, Test Loss: 355453.2812\n",
      "--------------------------------------------------\n",
      "Starting Epoch 81/100\n",
      "Epoch [81/100], Train Loss: 59.0765, Test Loss: 353747.4062\n",
      "--------------------------------------------------\n",
      "Starting Epoch 82/100\n",
      "Epoch [82/100], Train Loss: 55.0766, Test Loss: 352064.0625\n",
      "--------------------------------------------------\n",
      "Starting Epoch 83/100\n",
      "Epoch [83/100], Train Loss: 51.0987, Test Loss: 350437.5625\n",
      "--------------------------------------------------\n",
      "Starting Epoch 84/100\n",
      "Epoch [84/100], Train Loss: 47.2062, Test Loss: 348778.0000\n",
      "--------------------------------------------------\n",
      "Starting Epoch 85/100\n",
      "Epoch [85/100], Train Loss: 43.4536, Test Loss: 347081.9375\n",
      "--------------------------------------------------\n",
      "Starting Epoch 86/100\n",
      "Epoch [86/100], Train Loss: 39.8850, Test Loss: 345349.5938\n",
      "--------------------------------------------------\n",
      "Starting Epoch 87/100\n",
      "Epoch [87/100], Train Loss: 36.5172, Test Loss: 343637.2500\n",
      "--------------------------------------------------\n",
      "Starting Epoch 88/100\n",
      "Epoch [88/100], Train Loss: 33.3779, Test Loss: 341985.7500\n",
      "--------------------------------------------------\n",
      "Starting Epoch 89/100\n",
      "Epoch [89/100], Train Loss: 30.4548, Test Loss: 340398.5938\n",
      "--------------------------------------------------\n",
      "Starting Epoch 90/100\n",
      "Epoch [90/100], Train Loss: 27.7884, Test Loss: 338800.5312\n",
      "--------------------------------------------------\n",
      "Starting Epoch 91/100\n",
      "Epoch [91/100], Train Loss: 25.3764, Test Loss: 337321.8125\n",
      "--------------------------------------------------\n",
      "Starting Epoch 92/100\n",
      "Epoch [92/100], Train Loss: 23.2650, Test Loss: 335890.0625\n",
      "--------------------------------------------------\n",
      "Starting Epoch 93/100\n",
      "Epoch [93/100], Train Loss: 21.4580, Test Loss: 334605.6250\n",
      "--------------------------------------------------\n",
      "Starting Epoch 94/100\n",
      "Epoch [94/100], Train Loss: 19.9782, Test Loss: 333431.6562\n",
      "--------------------------------------------------\n",
      "Starting Epoch 95/100\n",
      "Epoch [95/100], Train Loss: 18.8108, Test Loss: 332468.2188\n",
      "--------------------------------------------------\n",
      "Starting Epoch 96/100\n",
      "Epoch [96/100], Train Loss: 18.0377, Test Loss: 331322.0625\n",
      "--------------------------------------------------\n",
      "Starting Epoch 97/100\n",
      "Epoch [97/100], Train Loss: 17.7713, Test Loss: 330921.6562\n",
      "--------------------------------------------------\n",
      "Starting Epoch 98/100\n",
      "Epoch [98/100], Train Loss: 17.6708, Test Loss: 330011.1250\n",
      "--------------------------------------------------\n",
      "Starting Epoch 99/100\n",
      "Epoch [99/100], Train Loss: 16.8112, Test Loss: 329411.1875\n",
      "--------------------------------------------------\n",
      "Starting Epoch 100/100\n",
      "Epoch [100/100], Train Loss: 14.9459, Test Loss: 328258.0625\n",
      "--------------------------------------------------\n",
      "*** Training Complete at 2023-11-24 00:07:39 ***\n"
     ]
    }
   ],
   "source": [
    "# Training parameters\n",
    "epochs = 100\n",
    "batch_size = 32\n",
    "\n",
    "# Training loop\n",
    "for epoch in range(epochs):\n",
    "    print(f'Starting Epoch {epoch+1}/{epochs}')\n",
    "    for i in range(0, len(X_train), batch_size):\n",
    "        # Get mini-batch\n",
    "        inputs = X_train[i:i + batch_size]\n",
    "        labels = y_train[i:i + batch_size]\n",
    "\n",
    "        # Forward pass\n",
    "        outputs = model(inputs)\n",
    "        loss = criterion(outputs, labels)\n",
    "\n",
    "        # Backward pass and optimization\n",
    "        optimizer.zero_grad()\n",
    "        loss.backward()\n",
    "        optimizer.step()\n",
    "\n",
    "    # Calculate and print training and test losses\n",
    "    with torch.no_grad():\n",
    "        train_loss = criterion(model(X_train), y_train)\n",
    "        test_loss = criterion(model(X_test), y_test)\n",
    "\n",
    "    print(f'Epoch [{epoch+1}/{epochs}], Train Loss: {train_loss:.4f}, Test Loss: {test_loss:.4f}')\n",
    "    print('-' * 50)\n",
    "\n",
    "# Training complete\n",
    "current_time = datetime.now()\n",
    "print(f'*** Training Complete at {current_time.strftime(\"%Y-%m-%d %H:%M:%S\")} ***')\n",
    "\n",
    "# Save the model\n",
    "with torch.no_grad():\n",
    "    test_predictions = model(X_test)\n",
    "    actual_temperatures = y_test[:, 0].numpy()\n",
    "    predicted_temperatures = test_predictions[:, 0].numpy()\n"
   ]
  },
  {
   "cell_type": "markdown",
   "metadata": {},
   "source": [
    "<h3>Evaluation Metrics</h3>"
   ]
  },
  {
   "cell_type": "markdown",
   "metadata": {},
   "source": [
    "<p>R2 scores are taken from each feature comparing how closely related the train dataset is from the testing. These metrics are used to help us evaluate the model's accuracy.</p>"
   ]
  },
  {
   "cell_type": "markdown",
   "metadata": {},
   "source": [
    "<p>As a reminder, values which are closest to zero show that the test feature is highly correlated to the train feature of the other dataset.</p>"
   ]
  },
  {
   "cell_type": "code",
   "execution_count": 17,
   "metadata": {},
   "outputs": [
    {
     "name": "stdout",
     "output_type": "stream",
     "text": [
      "\n",
      "Evaluation Metrics:\n",
      "Temperature R2 Score: -12558.0795\n",
      "Moisture R2 Score: -2145.7116\n",
      "Light R2 Score: -168.1838\n",
      "Conductivity R2 Score: -4.2619\n",
      "/ / / / / / / / / / / /\n"
     ]
    }
   ],
   "source": [
    "temperature_r2_score = r2_score(actual_temperatures, predicted_temperatures)\n",
    "# Similarly for moisture, light, and conductivity\n",
    "\n",
    "# Calculate R2 score for Moisture, Light, and Conductivity\n",
    "actual_moisture = y_test[:, 1].numpy()\n",
    "predicted_moisture = test_predictions[:, 1].numpy()\n",
    "moisture_r2_score = r2_score(actual_moisture, predicted_moisture)\n",
    "\n",
    "actual_light = y_test[:, 2].numpy()\n",
    "predicted_light = test_predictions[:, 2].numpy()\n",
    "light_r2_score = r2_score(actual_light, predicted_light)\n",
    "\n",
    "actual_conductivity = y_test[:, 3].numpy()\n",
    "predicted_conductivity = test_predictions[:, 3].numpy()\n",
    "conductivity_r2_score = r2_score(actual_conductivity, predicted_conductivity)\n",
    "\n",
    "print('')\n",
    "print('Evaluation Metrics:')\n",
    "print(f'Temperature R2 Score: {temperature_r2_score:.4f}')\n",
    "print(f'Moisture R2 Score: {moisture_r2_score:.4f}')\n",
    "print(f'Light R2 Score: {light_r2_score:.4f}')\n",
    "print(f'Conductivity R2 Score: {conductivity_r2_score:.4f}')\n",
    "print('/ / / / / / / / / / / /')\n"
   ]
  },
  {
   "cell_type": "markdown",
   "metadata": {},
   "source": [
    "<p>Save the trained model and load it.</p>"
   ]
  },
  {
   "cell_type": "code",
   "execution_count": 18,
   "metadata": {},
   "outputs": [
    {
     "name": "stdout",
     "output_type": "stream",
     "text": [
      "Model saved successfully at \"trained_model.pth\" on 2023-11-24 00:07:39\n"
     ]
    },
    {
     "data": {
      "text/plain": [
       "SoilHealthPredictor(\n",
       "  (layer1): Linear(in_features=4, out_features=64, bias=True)\n",
       "  (layer2): Linear(in_features=64, out_features=32, bias=True)\n",
       "  (layer3): Linear(in_features=32, out_features=16, bias=True)\n",
       "  (layer4): Linear(in_features=16, out_features=4, bias=True)\n",
       ")"
      ]
     },
     "execution_count": 18,
     "metadata": {},
     "output_type": "execute_result"
    }
   ],
   "source": [
    "# Save the trained model\n",
    "torch.save(model.state_dict(), 'trained_model.pth')\n",
    "print('Model saved successfully at \"trained_model.pth\" on ' + datetime.now().strftime('%Y-%m-%d %H:%M:%S'))\n",
    "# Load the saved model\n",
    "loaded_model = SoilHealthPredictor()\n",
    "loaded_model.load_state_dict(torch.load('trained_model.pth'))\n",
    "loaded_model.eval()"
   ]
  },
  {
   "cell_type": "markdown",
   "metadata": {},
   "source": [
    "<p>This data can be visualized with the following data points.</p>"
   ]
  },
  {
   "cell_type": "code",
   "execution_count": 19,
   "metadata": {},
   "outputs": [],
   "source": [
    "# Save for visualization\n",
    "np.save('y_test.npy', y_test.numpy())\n",
    "np.save('test_predictions.npy', test_predictions.numpy())\n",
    "np.save('y_train.npy', y_train.numpy())\n",
    "np.save('X_train.npy', X_train.numpy())\n",
    "torch.save(model.state_dict(), 'trained_model.pth')"
   ]
  },
  {
   "cell_type": "markdown",
   "metadata": {},
   "source": [
    "<h3>Health Score</h3>"
   ]
  },
  {
   "cell_type": "markdown",
   "metadata": {},
   "source": [
    "<p>At this time, all values are considered to determine a health score. Current date and time variables are initalized to use as title headers for daily data folders. A dictionary is created with key value pairs being each feature and it's respective value.</p>"
   ]
  },
  {
   "cell_type": "code",
   "execution_count": 20,
   "metadata": {},
   "outputs": [],
   "source": [
    "health_score = 0\n",
    " \n",
    "# Get current date and time and format them as strings\n",
    "current_date = datetime.now().strftime(\"%Y-%m-%d\")\n",
    "current_time = datetime.now().strftime(\"%Y-%m-%d %H:%M:%S\")\n",
    "\n",
    "# Define the data\n",
    "r2_scores = {\n",
    "    \"timestamp\": current_time,  # added timestamp directly to the dictionary\n",
    "    \"temperature_r2\": temperature_r2_score,\n",
    "    \"moisture_r2\": moisture_r2_score,\n",
    "    \"light_r2\": light_r2_score,\n",
    "    \"conductivity_r2\": conductivity_r2_score,\n",
    "}"
   ]
  },
  {
   "cell_type": "markdown",
   "metadata": {},
   "source": [
    "<p>Another copy of the r2 scores is saved to \"__files__/metrics\" for future reference.</p>"
   ]
  },
  {
   "cell_type": "code",
   "execution_count": 21,
   "metadata": {},
   "outputs": [],
   "source": [
    "# Create a copy of the r2_scores for saving to r2_scores.json\n",
    "r2_scores_raw = r2_scores.copy()\n",
    "\n",
    "# Remove the 'timestamp' and 'health_score' key-value pair from the dictionary\n",
    "r2_scores_raw.pop('timestamp', None)\n",
    "r2_scores_raw.pop('health_score', None)\n",
    "\n",
    "with open('/home/jeremy/Documents/AGT/__files__/metrics/r2_scores.json', 'w') as f:\n",
    "    json.dump(r2_scores_raw, f)"
   ]
  },
  {
   "cell_type": "markdown",
   "metadata": {},
   "source": [
    "<p>In order to determine evaluate accuracy, the R2 values are converted from percentages and divided by the number of features which becomes the average R2 score or the 'health score'.</p>"
   ]
  },
  {
   "cell_type": "code",
   "execution_count": 22,
   "metadata": {},
   "outputs": [
    {
     "name": "stdout",
     "output_type": "stream",
     "text": [
      "\n",
      "Health Score: 0.00\n",
      "\n"
     ]
    }
   ],
   "source": [
    "# Calculate the health score\n",
    "r2_scores_keys = list(r2_scores.keys())\n",
    "health_score = 0  # initialize this to prevent an error in case it's not defined earlier\n",
    "for key in r2_scores_keys:\n",
    "    if key != 'timestamp':  # Skip the timestamp field\n",
    "        r2 = max(r2_scores[key], 0)  # Ensure the score is not negative\n",
    "        health_score += r2 * 100  # Scale to 0-100\n",
    "health_score /= len(r2_scores_keys) - 1  # Subtract 1 from the denominator because we're not including the timestamp field\n",
    "\n",
    "print(f'\\nHealth Score: {health_score:.2f}\\n')\n",
    "\n",
    "r2_scores['timestamp'] = current_time\n",
    "r2_scores['health_score'] = health_score"
   ]
  },
  {
   "cell_type": "markdown",
   "metadata": {},
   "source": [
    "<p>Saving R2 data to daily metrics folder in the files directory.</p>"
   ]
  },
  {
   "cell_type": "code",
   "execution_count": 24,
   "metadata": {},
   "outputs": [],
   "source": [
    "\n",
    "# Define the folder for today's data\n",
    "daily_folder = os.path.join(\"/home/jeremy/Documents/AGT/__files__/metrics\", current_date)\n",
    "\n",
    "# Create the directory for the current day if it doesn't already exist\n",
    "if not os.path.exists(daily_folder):\n",
    "    os.makedirs(daily_folder)\n",
    "\n",
    "# Define the daily JSON file path\n",
    "daily_json_file = os.path.join(daily_folder, f'AGT-STAT-{current_date}.json')\n",
    "\n",
    "# Load existing data if the file exists, otherwise create an empty list\n",
    "if os.path.exists(daily_json_file):\n",
    "    with open(daily_json_file, 'r') as f:\n",
    "        daily_data = json.load(f)\n",
    "else:\n",
    "    daily_data = []\n",
    "\n",
    "# Append new records to the existing data\n",
    "daily_data.append(r2_scores)\n",
    "\n",
    "# Save the updated data to the daily JSON file\n",
    "with open(daily_json_file, 'w') as f:\n",
    "    json.dump(daily_data, f)"
   ]
  },
  {
   "cell_type": "markdown",
   "metadata": {},
   "source": [
    "<h2>Discord</h2>\n",
    "<h3>Commands</h3>\n",
    "<p>Ultimately, all commands in AGT will also be command line prompts in the Wiggle Room server's #agrotech channel.</p>"
   ]
  },
  {
   "cell_type": "markdown",
   "metadata": {},
   "source": [
    "<p>Currenly, there are two commands that can be used through Igore to control the Agrotech system.</p>"
   ]
  },
  {
   "cell_type": "markdown",
   "metadata": {},
   "source": [
    "<ul><li><p><code>/ agt-train</code>: directly trains on the most recent sesh.json data with the currently specified batch in the data model</p></li><p><li><code>/ agt-src-top</code>: pulls the latest entry in sesh.json</li></ul>"
   ]
  },
  {
   "cell_type": "markdown",
   "metadata": {},
   "source": [
    "<p>For security purposes, more commands will be added in the beta version of Agrotech Live.</p>"
   ]
  },
  {
   "cell_type": "markdown",
   "metadata": {},
   "source": [
    "<h3>Reports & Summaries</h3>"
   ]
  },
  {
   "cell_type": "markdown",
   "metadata": {},
   "source": [
    "<p>When the system is active, every ten minutes Carma bot fetches the latest record from sesh.json and displays it in the #agrotech channel.</p>"
   ]
  },
  {
   "cell_type": "markdown",
   "metadata": {},
   "source": [
    "<p>Carma is also checking for consistent changes in the data which would indicate a new trend. If so, it is specified in the latest #agrotech channel message along with a plotted visual.</p>"
   ]
  },
  {
   "cell_type": "markdown",
   "metadata": {},
   "source": [
    "<div style=\"text-align:center;\">\n",
    "    <img src=\"/home/jeremy/Documents/AGT/journal/images/Ongoing-Trend.png\" width=\"700px\" height=\"auto\"></img>\n",
    "</div>"
   ]
  },
  {
   "cell_type": "markdown",
   "metadata": {},
   "source": [
    "<p>Logic for the trend detection algorithm located in the Wiggle Room codebase and written in Javascript, so it will not run here.</p>"
   ]
  },
  {
   "cell_type": "markdown",
   "metadata": {},
   "source": [
    "<p>It performs the following steps to determine a new trend.</p>"
   ]
  },
  {
   "cell_type": "code",
   "execution_count": null,
   "metadata": {},
   "outputs": [],
   "source": [
    "# Detection block is callable by the main program file\n",
    "async function detectTrend(data) {\n",
    "  # Create an array of [index, value] pairs for the data\n",
    "  let pairs = data.map((value, index) => [index, value]);\n",
    "\n",
    "# Calculate the linear regression\n",
    "  let regression = ss.linearRegression(pairs);\n",
    "\n",
    "  # The 'm' property of the regression result is the slope of the line.\n",
    "  # If the slope is significantly different from zero, then a trend is detected.\n",
    "  if (Math.abs(regression.m) > 0.01) {  // Adjust the threshold as per your requirements\n",
    "   # Once the trend is detected, it is then sent to then attached to the message in #agrotech\n",
    "    console.log(\"Trend detected.\");\n",
    "    return true;\n",
    "  } else {\n",
    "    # No trend detected, return false.\n",
    "    console.log(\"No new trends found.\");\n",
    "    return false;\n",
    "  }\n",
    "}"
   ]
  },
  {
   "cell_type": "markdown",
   "metadata": {},
   "source": [
    "<h2>Closing Statements</h2>"
   ]
  },
  {
   "cell_type": "markdown",
   "metadata": {},
   "source": [
    "<p>The purpose of conducting this research is to understand if simulated envronments adided by machine learning data models can help humans and machines alike make more informed decisions in caring for eukaryotic life. Through the use of various statstical data models, we can determine a health score based on the average correlation between features from an ideal environment and the live session environtment data.</p>"
   ]
  },
  {
   "cell_type": "markdown",
   "metadata": {},
   "source": [
    "<p>Agrotech Live is a command line interface program which aims to automate this method of determining a subject's health such that it's capablities can be useful for other backend and commerical uses. To distinguish this differnece, a separate version of the program is being developed at the Wiggle Room.</p>"
   ]
  },
  {
   "cell_type": "markdown",
   "metadata": {},
   "source": [
    "<P>Updates to the Agrotech Live commercial system will be announced in the #dev-log channel following updates to backend versions. Eventually, monthly and quarterly reports will be automattically generated for use.</p>"
   ]
  },
  {
   "cell_type": "markdown",
   "metadata": {},
   "source": [
    "<small>&copy; Agrotech Live 2023</small>"
   ]
  }
 ],
 "metadata": {
  "kernelspec": {
   "display_name": "env",
   "language": "python",
   "name": "python3"
  },
  "language_info": {
   "codemirror_mode": {
    "name": "ipython",
    "version": 3
   },
   "file_extension": ".py",
   "mimetype": "text/x-python",
   "name": "python",
   "nbconvert_exporter": "python",
   "pygments_lexer": "ipython3",
   "version": "3.10.12"
  }
 },
 "nbformat": 4,
 "nbformat_minor": 2
}
