{
 "cells": [
  {
   "cell_type": "markdown",
   "metadata": {},
   "source": [
    "<small>August 7, 2024</small> | <small>Entry No. 2</small>"
   ]
  },
  {
   "cell_type": "markdown",
   "metadata": {},
   "source": [
    "# Table of Contents\n",
    "1. [Averages](#averages)\n",
    "2. [Comparisons](#comparisons)\n",
    "3. [Correlations](#correlations)\n",
    "4. [Understanding the Data](#fourth-examplehttpwwwfourthexamplecom)"
   ]
  },
  {
   "cell_type": "markdown",
   "metadata": {},
   "source": [
    "## Averages\n",
    "`avg.py`"
   ]
  },
  {
   "cell_type": "markdown",
   "metadata": {},
   "source": [
    "This journal follows the code from the \"avg\" command. It produces graphical data on the averages of sensor data points over time. Values for all device MACS are averaged in itself to get the control data. Test data is the JSON file produced by batch-builder.py. In this example, it is \"./home/jeremy/Documents\"/AGT/__files__/batches/parsley.json\""
   ]
  },
  {
   "cell_type": "markdown",
   "metadata": {},
   "source": [
    "Get required imports."
   ]
  },
  {
   "cell_type": "code",
   "execution_count": 1,
   "metadata": {},
   "outputs": [
    {
     "ename": "ModuleNotFoundError",
     "evalue": "No module named 'matplotlib'",
     "output_type": "error",
     "traceback": [
      "\u001b[0;31m---------------------------------------------------------------------------\u001b[0m",
      "\u001b[0;31mModuleNotFoundError\u001b[0m                       Traceback (most recent call last)",
      "Cell \u001b[0;32mIn[1], line 5\u001b[0m\n\u001b[1;32m      3\u001b[0m \u001b[38;5;28;01mimport\u001b[39;00m \u001b[38;5;21;01mos\u001b[39;00m\n\u001b[1;32m      4\u001b[0m \u001b[38;5;28;01mimport\u001b[39;00m \u001b[38;5;21;01mjson\u001b[39;00m\n\u001b[0;32m----> 5\u001b[0m \u001b[38;5;28;01mimport\u001b[39;00m \u001b[38;5;21;01mmatplotlib\u001b[39;00m\u001b[38;5;21;01m.\u001b[39;00m\u001b[38;5;21;01mpyplot\u001b[39;00m \u001b[38;5;28;01mas\u001b[39;00m \u001b[38;5;21;01mplt\u001b[39;00m\n\u001b[1;32m      6\u001b[0m \u001b[38;5;28;01mimport\u001b[39;00m \u001b[38;5;21;01mpandas\u001b[39;00m \u001b[38;5;28;01mas\u001b[39;00m \u001b[38;5;21;01mpd\u001b[39;00m\n\u001b[1;32m      7\u001b[0m get_ipython()\u001b[38;5;241m.\u001b[39mrun_line_magic(\u001b[38;5;124m'\u001b[39m\u001b[38;5;124mmatplotlib\u001b[39m\u001b[38;5;124m'\u001b[39m, \u001b[38;5;124m'\u001b[39m\u001b[38;5;124minline\u001b[39m\u001b[38;5;124m'\u001b[39m)\n",
      "\u001b[0;31mModuleNotFoundError\u001b[0m: No module named 'matplotlib'"
     ]
    }
   ],
   "source": [
    "# Import OS, JSON, Matplotlib, inline\n",
    "\n",
    "import os\n",
    "import json\n",
    "import matplotlib.pyplot as plt\n",
    "import pandas as pd\n",
    "%matplotlib inline"
   ]
  },
  {
   "cell_type": "markdown",
   "metadata": {},
   "source": [
    "This will be a lot of data, so creating a 2x2 grid is ideal for the four primary sensor types."
   ]
  },
  {
   "cell_type": "code",
   "execution_count": null,
   "metadata": {},
   "outputs": [],
   "source": [
    "# Function to plot data\n",
    "def plot_sensor_data(data, title):\n",
    "    # Extract timestamps and sensor data\n",
    "    timestamps = [entry['Timestamp'] for entry in data]\n",
    "    temperatures = [entry['Temperature'] for entry in data]\n",
    "    moistures = [entry['Moisture'] for entry in data]\n",
    "    lights = [entry['Light'] for entry in data]\n",
    "    conductivities = [entry['Conductivity'] for entry in data]\n",
    "\n",
    "    # Create a 2x2 grid of subplots\n",
    "    fig, axs = plt.subplots(2, 2, figsize=(15, 6), sharex=True)\n",
    "    fig.suptitle(title, fontsize=16)\n",
    "\n",
    "    # Plot Temperature data\n",
    "    axs[0, 0].plot(timestamps, temperatures, label='Temperature', color='maroon', linestyle='-.', marker='o', markersize=5, linewidth=2)\n",
    "    axs[0, 0].set_ylabel('Temperature')\n",
    "    axs[0, 0].legend()\n",
    "    axs[0, 0].grid(True)\n",
    "\n",
    "    # Plot Moisture data\n",
    "    axs[0, 1].plot(timestamps, moistures, label='Moisture', color='blue', linestyle='-.', marker='s', markersize=5, linewidth=2)\n",
    "    axs[0, 1].set_ylabel('Moisture')\n",
    "    axs[0, 1].legend()\n",
    "    axs[0, 1].grid(True)\n",
    "\n",
    "    # Plot Light data\n",
    "    axs[1, 0].plot(timestamps, lights, label='Light', color='green', linestyle='-.', marker='^', markersize=5, linewidth=2)\n",
    "    axs[1, 0].set_ylabel('Light')\n",
    "    axs[1, 0].legend()\n",
    "    axs[1, 0].grid(True)\n",
    "\n",
    "    # Plot Conductivity data\n",
    "    axs[1, 1].plot(timestamps, conductivities, label='Conductivity', color='orange', linestyle=':', marker='d', markersize=5, linewidth=2)\n",
    "    axs[1, 1].set_ylabel('Conductivity')\n",
    "    axs[1, 1].legend()\n",
    "    axs[1, 1].grid(True)\n",
    "\n",
    "    # Set x-label for bottom row\n",
    "    axs[1, 0].set_xlabel('Timestamp')\n",
    "    axs[1, 1].set_xlabel('Timestamp')\n",
    "\n",
    "    plt.tight_layout()\n",
    "    plt.show()"
   ]
  },
  {
   "cell_type": "markdown",
   "metadata": {},
   "source": [
    "Averages of synthetic test data from batch folder."
   ]
  },
  {
   "cell_type": "code",
   "execution_count": null,
   "metadata": {},
   "outputs": [],
   "source": [
    "# Load and plot test data\n",
    "test_json_file_path = '/home/jeremy/Documents/AGT/__files__/read_files/2024-07-17/AGT-2024-07-17.json'\n",
    "with open(test_json_file_path, 'r') as file:\n",
    "    test_data = json.load(file)\n",
    "plot_sensor_data(test_data, 'Test Data Average')"
   ]
  },
  {
   "cell_type": "markdown",
   "metadata": {},
   "source": [
    "Averages of data collected from sensors."
   ]
  },
  {
   "cell_type": "code",
   "execution_count": null,
   "metadata": {},
   "outputs": [],
   "source": [
    "# Load and plot control data\n",
    "control_json_file_path = '/home/jeremy/Documents/AGT/__files__/batches/parsley.json'\n",
    "with open(control_json_file_path, 'r') as file:\n",
    "    control_data = json.load(file)\n",
    "plot_sensor_data(control_data, 'Control Data Average')"
   ]
  },
  {
   "cell_type": "markdown",
   "metadata": {},
   "source": [
    "## Comparisons"
   ]
  },
  {
   "cell_type": "markdown",
   "metadata": {},
   "source": [
    "### Looking for Trends\n",
    "`trends.py`"
   ]
  },
  {
   "cell_type": "markdown",
   "metadata": {},
   "source": [
    "Putting the two datasets on a linear graph, we can compare them side be side."
   ]
  },
  {
   "cell_type": "code",
   "execution_count": null,
   "metadata": {},
   "outputs": [],
   "source": [
    "def plot_trend_data(test_data, control_data, title):\n",
    "    # Convert to DataFrames for easy manipulation\n",
    "    test_df = pd.DataFrame(test_data)\n",
    "    control_df = pd.DataFrame(control_data)\n",
    "\n",
    "    # Ensure 'Timestamp' is in datetime format\n",
    "    test_df['Timestamp'] = pd.to_datetime(test_df['Timestamp'])\n",
    "    control_df['Timestamp'] = pd.to_datetime(control_df['Timestamp'])\n",
    "\n",
    "    # Merge the DataFrames on 'Timestamp' to align the data\n",
    "    merged_df = pd.merge_asof(test_df.sort_values('Timestamp'), control_df.sort_values('Timestamp'), \n",
    "                               on='Timestamp', suffixes=('_test', '_control'))\n",
    "\n",
    "    # Extract columns for plotting\n",
    "    timestamps = merged_df['Timestamp']\n",
    "    test_temperatures = merged_df['Temperature_test']\n",
    "    control_temperatures = merged_df['Temperature_control']\n",
    "    test_moistures = merged_df['Moisture_test']\n",
    "    control_moistures = merged_df['Moisture_control']\n",
    "    test_lights = merged_df['Light_test']\n",
    "    control_lights = merged_df['Light_control']\n",
    "    test_conductivities = merged_df['Conductivity_test']\n",
    "    control_conductivities = merged_df['Conductivity_control']\n",
    "\n",
    "    # Create a 2x2 grid of subplots\n",
    "    fig, axs = plt.subplots(2, 2, figsize=(15, 6), sharex=True)\n",
    "    fig.suptitle(title, fontsize=16)\n",
    "\n",
    "    # Plot Temperature data\n",
    "    axs[0, 0].plot(timestamps, test_temperatures, label='Test Temperature', color='maroon', linestyle='-.', marker='o', markersize=5, linewidth=2)\n",
    "    axs[0, 0].plot(timestamps, control_temperatures, label='Control Temperature', color='red', linestyle='--', marker='x', markersize=5, linewidth=2)\n",
    "    axs[0, 0].set_ylabel('Temperature')\n",
    "    axs[0, 0].legend()\n",
    "    axs[0, 0].grid(True)\n",
    "\n",
    "    # Plot Moisture data\n",
    "    axs[0, 1].plot(timestamps, test_moistures, label='Test Moisture', color='blue', linestyle='-.', marker='s', markersize=5, linewidth=2)\n",
    "    axs[0, 1].plot(timestamps, control_moistures, label='Control Moisture', color='skyblue', linestyle='--', marker='P', markersize=5, linewidth=2)\n",
    "    axs[0, 1].set_ylabel('Moisture')\n",
    "    axs[0, 1].legend()\n",
    "    axs[0, 1].grid(True)\n",
    "\n",
    "    # Plot Light data\n",
    "    axs[1, 0].plot(timestamps, test_lights, label='Test Light', color='green', linestyle='-.', marker='^', markersize=5, linewidth=2)\n",
    "    axs[1, 0].plot(timestamps, control_lights, label='Control Light', color='lightgreen', linestyle='--', marker='v', markersize=5, linewidth=2)\n",
    "    axs[1, 0].set_ylabel('Light')\n",
    "    axs[1, 0].legend()\n",
    "    axs[1, 0].grid(True)\n",
    "\n",
    "    # Plot Conductivity data\n",
    "    axs[1, 1].plot(timestamps, test_conductivities, label='Test Conductivity', color='orange', linestyle=':', marker='d', markersize=5, linewidth=2)\n",
    "    axs[1, 1].plot(timestamps, control_conductivities, label='Control Conductivity', color='gold', linestyle='--', marker='*', markersize=5, linewidth=2)\n",
    "    axs[1, 1].set_ylabel('Conductivity')\n",
    "    axs[1, 1].legend()\n",
    "    axs[1, 1].grid(True)\n",
    "\n",
    "    # Set x-label for bottom row\n",
    "    axs[1, 0].set_xlabel('Timestamp')\n",
    "    axs[1, 1].set_xlabel('Timestamp')\n",
    "\n",
    "    plt.tight_layout()\n",
    "    plt.show()"
   ]
  },
  {
   "cell_type": "markdown",
   "metadata": {},
   "source": [
    "Load chart comparing averages from test and control data. "
   ]
  },
  {
   "cell_type": "code",
   "execution_count": null,
   "metadata": {},
   "outputs": [],
   "source": [
    "# Load test data\n",
    "test_json_file_path = '/home/jeremy/Documents/AGT/__files__/read_files/2024-04-30/AGT-2024-04-30.json'\n",
    "with open(test_json_file_path, 'r') as file:\n",
    "    test_data = json.load(file)\n",
    "\n",
    "# Load control data\n",
    "control_json_file_path = '/home/jeremy/Documents/AGT/__files__/batches/t_parsley.json'\n",
    "with open(control_json_file_path, 'r') as file:\n",
    "    control_data = json.load(file)\n",
    "\n",
    "# Plot both test and control data\n",
    "plot_sensor_data(test_data, control_data, 'Comparison of Test and Control Data')"
   ]
  },
  {
   "cell_type": "markdown",
   "metadata": {},
   "source": [
    "## Correlations"
   ]
  },
  {
   "cell_type": "markdown",
   "metadata": {},
   "source": [
    "## Measuring Correlation"
   ]
  },
  {
   "cell_type": "markdown",
   "metadata": {},
   "source": [
    "`corr.py`"
   ]
  },
  {
   "cell_type": "markdown",
   "metadata": {},
   "source": [
    "a Perason correlation coefficient can measure the linear relationship between the test and control data. "
   ]
  },
  {
   "cell_type": "markdown",
   "metadata": {},
   "source": [
    "It ranges from -1 to 1 with 1 being perfect correlation, 0 no relationship and -1 a perfect negative relationship. This means as one value increases, the other decreases proportionally. "
   ]
  },
  {
   "cell_type": "code",
   "execution_count": null,
   "metadata": {},
   "outputs": [],
   "source": [
    "import seaborn as sns"
   ]
  },
  {
   "cell_type": "markdown",
   "metadata": {},
   "source": [
    "Next we will show the data types to understand what transformations are needed"
   ]
  },
  {
   "cell_type": "code",
   "execution_count": null,
   "metadata": {},
   "outputs": [],
   "source": [
    "test = pd.read_json(\"/home/jeremy/Documents/AGT/__files__/batches/t_parsley.json\")\n",
    "control = pd.read_json(\"/home/jeremy/Documents/AGT/__files__/read_files/2024-07-17/AGT-2024-07-17.json\")\n",
    "\n",
    "# Combine the data from both DataFrames\n",
    "df = pd.concat([test, control], ignore_index=True)\n",
    "\n",
    "# Check the data types to understand what transformations are needed\n",
    "print(df.dtypes)\n",
    "\n",
    "# Convert the columns if they are lists or other non-float types\n",
    "if isinstance(df['Moisture'].iloc[0], list):\n",
    "    df['Moisture'] = df['Moisture'].apply(lambda x: x[0] if isinstance(x, list) else x)\n",
    "\n",
    "if isinstance(df['Light'].iloc[0], list):\n",
    "    df['Light'] = df['Light'].apply(lambda x: x[0] if isinstance(x, list) else x)\n",
    "\n",
    "if isinstance(df['Temperature'].iloc[0], list):\n",
    "    df['Temperature'] = df['Temperature'].apply(lambda x: x[0] if isinstance(x, list) else x)\n",
    "\n",
    "if isinstance(df['Conductivity'].iloc[0], list):\n",
    "    df['Conductivity'] = df['Conductivity'].apply(lambda x: x[0] if isinstance(x, list) else x)\n"
   ]
  },
  {
   "cell_type": "code",
   "execution_count": null,
   "metadata": {},
   "outputs": [],
   "source": [
    "# Convert to float (if not already)\n",
    "df['Moisture'] = df['Moisture'].astype(float)\n",
    "df['Light'] = df['Light'].astype(float)\n",
    "df['Temperature'] = df['Temperature'].astype(float)\n",
    "df['Conductivity'] = df['Conductivity'].astype(float)\n",
    "\n",
    "# Calculate the Pearson correlation coefficient between light and temperature\n",
    "correlation = df.corr(numeric_only=True)\n",
    "\n",
    "# Create a heatmap to visualize the correlation\n",
    "sns.heatmap(correlation, annot=True, cmap='YlGnBu')\n",
    "\n",
    "print(correlation)"
   ]
  },
  {
   "cell_type": "markdown",
   "metadata": {},
   "source": [
    "Based on the output of your heatmap, it will show the correlation values between -1 to 1.0."
   ]
  },
  {
   "cell_type": "code",
   "execution_count": null,
   "metadata": {},
   "outputs": [],
   "source": [
    "plt.show()\n",
    "\n",
    "print(correlation)"
   ]
  },
  {
   "cell_type": "markdown",
   "metadata": {},
   "source": [
    "<small>&copy; Agrotech Live 2024</small>"
   ]
  }
 ],
 "metadata": {
  "kernelspec": {
   "display_name": "env",
   "language": "python",
   "name": "python3"
  },
  "language_info": {
   "codemirror_mode": {
    "name": "ipython",
    "version": 3
   },
   "file_extension": ".py",
   "mimetype": "text/x-python",
   "name": "python",
   "nbconvert_exporter": "python",
   "pygments_lexer": "ipython3",
   "version": "3.10.12"
  }
 },
 "nbformat": 4,
 "nbformat_minor": 2
}
